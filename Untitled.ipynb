{
 "cells": [
  {
   "cell_type": "markdown",
   "id": "3dbf5035",
   "metadata": {},
   "source": [
    "## Q1. Creating DataFrame from dict of narray/lists"
   ]
  },
  {
   "cell_type": "code",
   "execution_count": 7,
   "id": "86478ff1",
   "metadata": {},
   "outputs": [
    {
     "name": "stdout",
     "output_type": "stream",
     "text": [
      "    Category  Student_1  Student_2\n",
      "0     Square         20         15\n",
      "1     Circle         21         20\n",
      "2  Rectangle         19         14\n"
     ]
    }
   ],
   "source": [
    "import pandas as pd\n",
    " \n",
    "# initialise data of lists.\n",
    "data = {'Category':['Square', 'Circle', 'Rectangle'],\n",
    "        'Student_1':[20, 21, 19], 'Student_2':[15, 20, 14]}\n",
    " \n",
    "# Create DataFrame\n",
    "df = pd.DataFrame(data)\n",
    " \n",
    "# Print the output.\n",
    "print(df)"
   ]
  },
  {
   "cell_type": "code",
   "execution_count": 8,
   "id": "b58d87c4",
   "metadata": {},
   "outputs": [
    {
     "name": "stdout",
     "output_type": "stream",
     "text": [
      "        Area  Student_1  Student_2\n",
      "0     Square         20         15\n",
      "1     Circle         21         20\n",
      "2  Rectangle         19         14\n"
     ]
    }
   ],
   "source": [
    "# Providing index list to dataframe \n",
    "import pandas as pd\n",
    " \n",
    "# initialise data of lists.\n",
    "data = {'Area':['Square', 'Circle', 'Rectangle'],\n",
    "        'Student_1':[20, 21, 19], 'Student_2':[15, 20, 14]}\n",
    " \n",
    "# Create DataFrame\n",
    "df = pd.DataFrame(data, index =['0', '1', '2'])\n",
    " \n",
    "# Print the output.\n",
    "print(df)"
   ]
  },
  {
   "cell_type": "markdown",
   "id": "09e50451",
   "metadata": {},
   "source": [
    "## Q2. Creating Pandas dataframe using list of lists "
   ]
  },
  {
   "cell_type": "code",
   "execution_count": 9,
   "id": "16375ddc",
   "metadata": {},
   "outputs": [
    {
     "name": "stdout",
     "output_type": "stream",
     "text": [
      "       Name  Age\n",
      "0     Ankit   10\n",
      "1     Rahul   15\n",
      "2  Prashant   20\n"
     ]
    }
   ],
   "source": [
    "# Import pandas library\n",
    "import pandas as pd\n",
    " \n",
    "# initialize list of lists\n",
    "data = [['Ankit', 10], ['Rahul', 15], ['Prashant', 20]]\n",
    " \n",
    "# Create the pandas DataFrame\n",
    "df = pd.DataFrame(data, columns = ['Name', 'Age'])\n",
    " \n",
    "# print dataframe.\n",
    "print(df )"
   ]
  },
  {
   "cell_type": "code",
   "execution_count": 10,
   "id": "f31beb4f",
   "metadata": {},
   "outputs": [
    {
     "name": "stdout",
     "output_type": "stream",
     "text": [
      "   Col_1  Col_2  Col_3\n",
      "0      1      5     10\n",
      "1      2      6      9\n",
      "2      3      7      8 \n",
      "\n",
      "Transpose of above dataframe is-\n",
      "         0  1  2\n",
      "Col_1   1  2  3\n",
      "Col_2   5  6  7\n",
      "Col_3  10  9  8\n"
     ]
    }
   ],
   "source": [
    "# Doing some operation of dataframe. \n",
    "\n",
    "\n",
    "# Import pandas library\n",
    "import pandas as pd\n",
    " \n",
    "# initialize list of lists\n",
    "data = [[1, 5, 10], [2, 6, 9], [3, 7, 8]]\n",
    " \n",
    "# Create the pandas DataFrame\n",
    "df = pd.DataFrame(data)\n",
    " \n",
    "# specifying column names\n",
    "df.columns = ['Col_1', 'Col_2', 'Col_3']\n",
    " \n",
    "# print dataframe.\n",
    "print(df, \"\\n\")\n",
    " \n",
    "# transpose of dataframe\n",
    "df = df.transpose()\n",
    "print(\"Transpose of above dataframe is-\\n\", df)"
   ]
  },
  {
   "cell_type": "markdown",
   "id": "39232400",
   "metadata": {},
   "source": [
    "## Q3. Make a Pandas DataFrame with two-dimensional list"
   ]
  },
  {
   "cell_type": "code",
   "execution_count": 13,
   "id": "aa29e64a",
   "metadata": {},
   "outputs": [
    {
     "name": "stdout",
     "output_type": "stream",
     "text": [
      "      Name  number\n",
      "0    Ankit      25\n",
      "1      Ram      30\n",
      "2  Sourabh      26\n",
      "3    Mohan      22\n"
     ]
    }
   ],
   "source": [
    "# import pandas as pd \n",
    "import pandas as pd  \n",
    "      \n",
    "# List1  \n",
    "lst = [['Ankit', 25], ['Ram', 30], \n",
    "       ['Sourabh', 26], ['Mohan', 22]] \n",
    "  \n",
    "# creating df object with columns specified    \n",
    "df = pd.DataFrame(lst, columns =['Name', 'number']) \n",
    "print(df )"
   ]
  },
  {
   "cell_type": "markdown",
   "id": "f765bd14",
   "metadata": {},
   "source": [
    "# Q4. Creating a Pandas dataframe using list of tuples"
   ]
  },
  {
   "cell_type": "code",
   "execution_count": 16,
   "id": "c6a7c40f",
   "metadata": {},
   "outputs": [
    {
     "name": "stdout",
     "output_type": "stream",
     "text": [
      "     Name  Age  Score\n",
      "0   Peter   18      7\n",
      "1    Riff   15      6\n",
      "2    John   17      8\n",
      "3  Michel   18      7\n",
      "4   Sheli   17      5\n"
     ]
    }
   ],
   "source": [
    "#Code_1: Simply passing tuple to DataFrame constructor.\n",
    "\n",
    "\n",
    "# import pandas to use pandas DataFrame\n",
    "import pandas as pd\n",
    "  \n",
    "# data in the form of list of tuples\n",
    "data = [('Peter', 18, 7),\n",
    "        ('Riff', 15, 6),\n",
    "        ('John', 17, 8),\n",
    "        ('Michel', 18, 7),\n",
    "        ('Sheli', 17, 5) ]\n",
    "  \n",
    "#create DataFrame using data\n",
    "\n",
    "df = pd.DataFrame(data, columns =['Name', 'Age', 'Score'])\n",
    "  \n",
    "print(df) "
   ]
  },
  {
   "cell_type": "code",
   "execution_count": 17,
   "id": "ef63bf42",
   "metadata": {},
   "outputs": [
    {
     "name": "stdout",
     "output_type": "stream",
     "text": [
      "     Team  Age  Score\n",
      "0   Peter   18      7\n",
      "1    Riff   15      6\n",
      "2    John   17      8\n",
      "3  Michel   18      7\n",
      "4   Sheli   17      5\n"
     ]
    }
   ],
   "source": [
    "#Code_2: Using from_records()\n",
    "\n",
    "\n",
    "import pandas as pd\n",
    "  \n",
    "# data in the form of list of tuples\n",
    "data = [('Peter', 18, 7),\n",
    "        ('Riff', 15, 6),\n",
    "        ('John', 17, 8),\n",
    "        ('Michel', 18, 7),\n",
    "        ('Sheli', 17, 5) ]\n",
    "  \n",
    "#create DataFrame using data\n",
    "df = pd.DataFrame.from_records(data, columns =['Team', 'Age', 'Score'])\n",
    "  \n",
    "print(df) "
   ]
  },
  {
   "cell_type": "code",
   "execution_count": 22,
   "id": "5c3b05da",
   "metadata": {},
   "outputs": [
    {
     "name": "stdout",
     "output_type": "stream",
     "text": [
      "<generator object DataFrame.items at 0x7fe989d7e2e0>\n"
     ]
    }
   ],
   "source": [
    "#Code_3: Using from_items()\n",
    "\n",
    "\n",
    "import pandas as pd\n",
    "  \n",
    "# data in the form of list of tuples\n",
    "data = [\n",
    "('Age', [18, 15, 17, 18, 17]),\n",
    "('Team', ['A', 'B', 'A', 'C', 'B']),\n",
    "('Score', [7, 6, 8, 7, 5]),\n",
    "]\n",
    "  \n",
    "# create DataFrame using data\n",
    "df = pd.DataFrame.items(data)\n",
    "print(df) "
   ]
  },
  {
   "cell_type": "markdown",
   "id": "32b6508e",
   "metadata": {},
   "source": [
    "## Q5. Create a Pandas DataFrame from List of Dicts"
   ]
  },
  {
   "cell_type": "code",
   "execution_count": 25,
   "id": "5707c3e4",
   "metadata": {},
   "outputs": [
    {
     "data": {
      "text/html": [
       "<div>\n",
       "<style scoped>\n",
       "    .dataframe tbody tr th:only-of-type {\n",
       "        vertical-align: middle;\n",
       "    }\n",
       "\n",
       "    .dataframe tbody tr th {\n",
       "        vertical-align: top;\n",
       "    }\n",
       "\n",
       "    .dataframe thead th {\n",
       "        text-align: right;\n",
       "    }\n",
       "</style>\n",
       "<table border=\"1\" class=\"dataframe\">\n",
       "  <thead>\n",
       "    <tr style=\"text-align: right;\">\n",
       "      <th></th>\n",
       "      <th>FName</th>\n",
       "      <th>LName</th>\n",
       "      <th>Location</th>\n",
       "    </tr>\n",
       "  </thead>\n",
       "  <tbody>\n",
       "    <tr>\n",
       "      <th>0</th>\n",
       "      <td>Ankit</td>\n",
       "      <td>Sharma</td>\n",
       "      <td>Bihar</td>\n",
       "    </tr>\n",
       "    <tr>\n",
       "      <th>1</th>\n",
       "      <td>10</td>\n",
       "      <td>20</td>\n",
       "      <td>30</td>\n",
       "    </tr>\n",
       "  </tbody>\n",
       "</table>\n",
       "</div>"
      ],
      "text/plain": [
       "   FName   LName Location\n",
       "0  Ankit  Sharma    Bihar\n",
       "1     10      20       30"
      ]
     },
     "execution_count": 25,
     "metadata": {},
     "output_type": "execute_result"
    }
   ],
   "source": [
    "# Code_1:\n",
    "# Python code demonstrate how to create  \n",
    "# Pandas DataFrame by lists of dicts. \n",
    "import pandas as pd \n",
    "    \n",
    "# Initialise data to lists. \n",
    "data = [{'FName': 'Ankit', 'LName': 'Sharma', 'Location': 'Bihar'},\n",
    "        {'FName':10, 'LName': 20, 'Location': 30}] \n",
    "    \n",
    "# Creates DataFrame. \n",
    "df = pd.DataFrame(data) \n",
    "    \n",
    "# Print the data \n",
    "df "
   ]
  },
  {
   "cell_type": "code",
   "execution_count": 26,
   "id": "56715392",
   "metadata": {},
   "outputs": [
    {
     "name": "stdout",
     "output_type": "stream",
     "text": [
      "          Geeks    For\n",
      "ind1  dataframe  using\n",
      "ind2         10     20 \n",
      "\n",
      "          Geeks    For geeks\n",
      "indx  dataframe  using  list\n",
      "indy         10     20    30\n"
     ]
    }
   ],
   "source": [
    "#Code_2: With index and columns\n",
    "\n",
    "# Python code demonstrate how to create  \n",
    "# Pandas DataFrame by lists of dicts. \n",
    "import pandas as pd \n",
    "    \n",
    "# Initialise data to lists. \n",
    "data = [{'Geeks': 'dataframe', 'For': 'using', 'geeks': 'list'},\n",
    "        {'Geeks':10, 'For': 20, 'geeks': 30}] \n",
    "    \n",
    "# With two column indices, values same  \n",
    "# as dictionary keys \n",
    "df1 = pd.DataFrame(data, index =['ind1', 'ind2'],\n",
    "                      columns =['Geeks', 'For']) \n",
    "     \n",
    "# With two column indices with  \n",
    "# one index with other name \n",
    "df2 = pd.DataFrame(data, index =['indx', 'indy']) \n",
    "     \n",
    "# print for first data frame \n",
    "print (df1, \"\\n\") \n",
    "     \n",
    "# Print for second DataFrame. \n",
    "print (df2) "
   ]
  },
  {
   "cell_type": "markdown",
   "id": "91627963",
   "metadata": {},
   "source": [
    "## Q6. Convert list of nested dictionary into Pandas dataframe"
   ]
  },
  {
   "cell_type": "code",
   "execution_count": 29,
   "id": "6c0ddd9c",
   "metadata": {},
   "outputs": [
    {
     "name": "stdout",
     "output_type": "stream",
     "text": [
      "[{'Student': [{'Exam': 90, 'Grade': 'a'}, {'Exam': 99, 'Grade': 'b'}, {'Exam': 97, 'Grade': 'c'}], 'Name': 'Paras Jain'}, {'Student': [{'Exam': 89, 'Grade': 'a'}, {'Exam': 80, 'Grade': 'b'}], 'Name': 'Chunky Pandey'}]\n"
     ]
    }
   ],
   "source": [
    "#Step_1: Creating a list of nested dictionary.\n",
    "\n",
    "\n",
    "# importing pandas\n",
    "import pandas as pd\n",
    "  \n",
    "# List of nested dictionary initialization\n",
    "list = [\n",
    "        {\n",
    "        \"Student\": [{\"Exam\": 90, \"Grade\": \"a\"},\n",
    "                    {\"Exam\": 99, \"Grade\": \"b\"},\n",
    "                    {\"Exam\": 97, \"Grade\": \"c\"},\n",
    "                   ],\n",
    "        \"Name\": \"Paras Jain\"\n",
    "        },\n",
    "        {\n",
    "        \"Student\": [{\"Exam\": 89, \"Grade\": \"a\"},\n",
    "                    {\"Exam\": 80, \"Grade\": \"b\"}\n",
    "                   ],\n",
    "        \"Name\": \"Chunky Pandey\"\n",
    "        }\n",
    "       ]\n",
    "print(list)"
   ]
  },
  {
   "cell_type": "code",
   "execution_count": 30,
   "id": "789ee20c",
   "metadata": {},
   "outputs": [
    {
     "name": "stdout",
     "output_type": "stream",
     "text": [
      "   Exam Grade           Name\n",
      "0    90     a     Paras Jain\n",
      "1    99     b     Paras Jain\n",
      "2    97     c     Paras Jain\n",
      "3    89     a  Chunky Pandey\n",
      "4    80     b  Chunky Pandey\n"
     ]
    }
   ],
   "source": [
    "#Step_2: Adding dict values to rows.\n",
    "\n",
    "\n",
    "# rows list initialization\n",
    "rows = []\n",
    "  \n",
    "# appending rows\n",
    "for data in list:\n",
    "    data_row = data['Student']\n",
    "    time = data['Name']\n",
    "      \n",
    "    for row in data_row:\n",
    "        row['Name']= time\n",
    "        rows.append(row)\n",
    "\n",
    "# using data frame\n",
    "df = pd.DataFrame(rows)\n",
    "  \n",
    "print(df)"
   ]
  },
  {
   "cell_type": "code",
   "execution_count": 31,
   "id": "06954a59",
   "metadata": {},
   "outputs": [
    {
     "name": "stdout",
     "output_type": "stream",
     "text": [
      "            Name  Maths  Physics  Chemistry\n",
      "0  Chunky Pandey   89.0     80.0        NaN\n",
      "1     Paras Jain   90.0     99.0       97.0\n"
     ]
    }
   ],
   "source": [
    "#Step_3: Pivoting dataframe and assigning column names.\n",
    "\n",
    "\n",
    "# using pivot_table\n",
    "df = df.pivot_table(index ='Name', columns =['Grade'],\n",
    "                        values =['Exam']).reset_index()\n",
    "  \n",
    "# Defining columns\n",
    "df.columns =['Name', 'Maths', 'Physics', 'Chemistry']\n",
    "  \n",
    "# print dataframe\n",
    "print(df)"
   ]
  },
  {
   "cell_type": "markdown",
   "id": "d2ac5dc7",
   "metadata": {},
   "source": [
    "# Q7. Replace values in Pandas dataframe using regex"
   ]
  },
  {
   "cell_type": "markdown",
   "id": "e8358bc1",
   "metadata": {},
   "source": [
    "<b><u>Problem #1 :</u></b> You are given a dataframe which contains the details about various events in different cities. For those cities which starts with the keyword ‘New’ or ‘new’, change it to ‘New_’.\n",
    "\n",
    "<b><u>Solution :</u></b> We are going to use regular expression to detect such names and then we will use Dataframe.replace() function to replace those names."
   ]
  },
  {
   "cell_type": "code",
   "execution_count": 32,
   "id": "3729ae79",
   "metadata": {},
   "outputs": [
    {
     "name": "stdout",
     "output_type": "stream",
     "text": [
      "                City        Event   Cost\n",
      "2018-02     New York        Music  10000\n",
      "2018-04      Parague       Poetry   5000\n",
      "2018-06    New Delhi      Theatre  15000\n",
      "2018-10       Venice       Comedy   2000\n",
      "2018-12  new Orleans  Tech_Summit  12000\n"
     ]
    }
   ],
   "source": [
    "# importing pandas as pd\n",
    "import pandas as pd\n",
    "  \n",
    "# Let's create a Dataframe\n",
    "df = pd.DataFrame({'City':['New York', 'Parague', 'New Delhi', 'Venice', 'new Orleans'],\n",
    "                    'Event':['Music', 'Poetry', 'Theatre', 'Comedy', 'Tech_Summit'],\n",
    "                    'Cost':[10000, 5000, 15000, 2000, 12000]})\n",
    "  \n",
    "# Let's create the index\n",
    "index_ = [pd.Period('02-2018'), pd.Period('04-2018'),\n",
    "          pd.Period('06-2018'), pd.Period('10-2018'), pd.Period('12-2018')]\n",
    "  \n",
    "# Set the index\n",
    "df.index = index_\n",
    "  \n",
    "# Let's print the dataframe\n",
    "print(df)"
   ]
  },
  {
   "cell_type": "markdown",
   "id": "4bfa7392",
   "metadata": {},
   "source": [
    "Now we will write the <b><u>regular expression</u></b> to match the string and then we will use Dataframe.replace() function to replace those names."
   ]
  },
  {
   "cell_type": "code",
   "execution_count": 33,
   "id": "ab6964d1",
   "metadata": {},
   "outputs": [
    {
     "name": "stdout",
     "output_type": "stream",
     "text": [
      "                 City        Event   Cost\n",
      "2018-02     New_ York        Music  10000\n",
      "2018-04       Parague       Poetry   5000\n",
      "2018-06    New_ Delhi      Theatre  15000\n",
      "2018-10        Venice       Comedy   2000\n",
      "2018-12  New_ Orleans  Tech_Summit  12000\n"
     ]
    }
   ],
   "source": [
    "# replace the matching strings\n",
    "df_updated = df.replace(to_replace ='[nN]ew', value = 'New_', regex = True)\n",
    "  \n",
    "# Print the updated dataframe\n",
    "print(df_updated)"
   ]
  },
  {
   "cell_type": "markdown",
   "id": "ff27df7f",
   "metadata": {},
   "source": [
    "<b><u>Problem #2 :</u></b> You are given a dataframe which contains the details about various events in different cities. The names of certain cities contain some additional details enclosed in a bracket. Search for such names and remove the additional details.\n",
    "\n",
    "<b><u>Solution :</u></b> For this task, we will write our own customized function using regular expression to identify and update the names of those cities. Additionally, We will use Dataframe.apply() function to apply our customized function on each values the column."
   ]
  },
  {
   "cell_type": "code",
   "execution_count": 34,
   "id": "f32fd268",
   "metadata": {},
   "outputs": [
    {
     "name": "stdout",
     "output_type": "stream",
     "text": [
      "                      City        Event   Cost\n",
      "2018-02    New York (City)        Music  10000\n",
      "2018-04            Parague       Poetry   5000\n",
      "2018-06  New Delhi (Delhi)      Theatre  15000\n",
      "2018-10             Venice       Comedy   2000\n",
      "2018-12        new Orleans  Tech_Summit  12000\n"
     ]
    }
   ],
   "source": [
    "# importing pandas as pd\n",
    "import pandas as pd\n",
    "  \n",
    "# Let's create a Dataframe\n",
    "df = pd.DataFrame({'City':['New York (City)', 'Parague', 'New Delhi (Delhi)', 'Venice', 'new Orleans'],\n",
    "                    'Event':['Music', 'Poetry', 'Theatre', 'Comedy', 'Tech_Summit'],\n",
    "                    'Cost':[10000, 5000, 15000, 2000, 12000]})\n",
    "  \n",
    "# Let's create the index\n",
    "index_ = [pd.Period('02-2018'), pd.Period('04-2018'),\n",
    "          pd.Period('06-2018'), pd.Period('10-2018'), pd.Period('12-2018')]\n",
    "  \n",
    "# Set the index\n",
    "df.index = index_\n",
    "  \n",
    "# Let's print the dataframe\n",
    "print(df)"
   ]
  },
  {
   "cell_type": "markdown",
   "id": "5f5ac60b",
   "metadata": {},
   "source": [
    "Now we will write our own customized function to match the description in the names of the cities."
   ]
  },
  {
   "cell_type": "code",
   "execution_count": 35,
   "id": "2404d11e",
   "metadata": {},
   "outputs": [
    {
     "name": "stdout",
     "output_type": "stream",
     "text": [
      "                City        Event   Cost\n",
      "2018-02    New York         Music  10000\n",
      "2018-04      Parague       Poetry   5000\n",
      "2018-06   New Delhi       Theatre  15000\n",
      "2018-10       Venice       Comedy   2000\n",
      "2018-12  new Orleans  Tech_Summit  12000\n"
     ]
    }
   ],
   "source": [
    "# Importing re package for using regular expressions\n",
    "import re\n",
    "  \n",
    "# Function to clean the names\n",
    "def Clean_names(City_name):\n",
    "    # Search for opening bracket in the name followed by\n",
    "    # any characters repeated any number of times\n",
    "    if re.search('\\(.*', City_name):\n",
    "  \n",
    "        # Extract the position of beginning of pattern\n",
    "        pos = re.search('\\(.*', City_name).start()\n",
    "  \n",
    "        # return the cleaned name\n",
    "        return City_name[:pos]\n",
    "  \n",
    "    else:\n",
    "        # if clean up needed return the same name\n",
    "        return City_name\n",
    "          \n",
    "# Updated the city columns\n",
    "df['City'] = df['City'].apply(Clean_names)\n",
    "  \n",
    "# Print the updated dataframe\n",
    "print(df)"
   ]
  },
  {
   "cell_type": "markdown",
   "id": "aac4607f",
   "metadata": {},
   "source": [
    "## Q8. Creating Dataframe from Series"
   ]
  },
  {
   "cell_type": "code",
   "execution_count": 36,
   "id": "374b1fd9",
   "metadata": {},
   "outputs": [
    {
     "name": "stdout",
     "output_type": "stream",
     "text": [
      "     Author  Article\n",
      "0  Jitender      210\n",
      "1   Purnima      211\n",
      "2     Arpit      114\n",
      "3     Jyoti      178\n"
     ]
    }
   ],
   "source": [
    "# Code_1:\n",
    "import pandas as pd\n",
    "import matplotlib.pyplot as plt\n",
    "  \n",
    "author = ['Jitender', 'Purnima', 'Arpit', 'Jyoti']\n",
    "article = [210, 211, 114, 178]\n",
    "  \n",
    "auth_series = pd.Series(author)\n",
    "article_series = pd.Series(article)\n",
    "  \n",
    "frame = { 'Author': auth_series, 'Article': article_series }\n",
    "  \n",
    "result = pd.DataFrame(frame)\n",
    "  \n",
    "print(result)"
   ]
  },
  {
   "cell_type": "code",
   "execution_count": 37,
   "id": "e6505a2c",
   "metadata": {},
   "outputs": [
    {
     "name": "stdout",
     "output_type": "stream",
     "text": [
      "     Author  Article   Age\n",
      "0  Jitender      210  21.0\n",
      "1   Purnima      211  21.0\n",
      "2     Arpit      114  23.0\n",
      "3     Jyoti      178   NaN\n"
     ]
    }
   ],
   "source": [
    "#Code_2: Missing value in dataframe\n",
    "\n",
    "\n",
    "import pandas as pd\n",
    "import matplotlib.pyplot as plt\n",
    "  \n",
    "author = ['Jitender', 'Purnima', 'Arpit', 'Jyoti']\n",
    "article = [210, 211, 114, 178]\n",
    "  \n",
    "auth_series = pd.Series(author)\n",
    "article_series = pd.Series(article)\n",
    "  \n",
    "frame = { 'Author': auth_series, 'Article': article_series }\n",
    "  \n",
    "result = pd.DataFrame(frame)\n",
    "age = [21, 21, 23]\n",
    "  \n",
    "result['Age'] = pd.Series(age)\n",
    "  \n",
    "print(result)"
   ]
  },
  {
   "cell_type": "code",
   "execution_count": 44,
   "id": "7e68320c",
   "metadata": {},
   "outputs": [
    {
     "ename": "SyntaxError",
     "evalue": "invalid syntax (<ipython-input-44-89410783750a>, line 3)",
     "output_type": "error",
     "traceback": [
      "\u001b[0;36m  File \u001b[0;32m\"<ipython-input-44-89410783750a>\"\u001b[0;36m, line \u001b[0;32m3\u001b[0m\n\u001b[0;31m    Using plot.bar() we have created a bar graph.\u001b[0m\n\u001b[0m          ^\u001b[0m\n\u001b[0;31mSyntaxError\u001b[0m\u001b[0;31m:\u001b[0m invalid syntax\n"
     ]
    }
   ],
   "source": [
    "#Code_3: Data Plot on graph\n",
    "\n",
    "Using plot.bar() we have created a bar graph.\n",
    "\n",
    "import pandas as pd\n",
    "import matplotlib.pyplot as plt\n",
    "  \n",
    "author = ['Jitender', 'Purnima', 'Arpit', 'Jyoti']\n",
    "article = [210, 211, 114, 178]\n",
    "  \n",
    "auth_series = pd.Series(author)\n",
    "article_series = pd.Series(article)\n",
    "  \n",
    "frame = { 'Author': auth_series, 'Article': article_series }\n",
    "  \n",
    "result = pd.DataFrame(frame)\n",
    "age = [21, 21, 24, 23]\n",
    "  \n",
    "result['Age'] = pd.Series(age)\n",
    "result.plot.bar()\n",
    "plt.show()"
   ]
  },
  {
   "cell_type": "markdown",
   "id": "1e11b381",
   "metadata": {},
   "source": [
    "## Q9. Construct a DataFrame in Pandas using string data"
   ]
  },
  {
   "cell_type": "markdown",
   "id": "b7cc0736",
   "metadata": {},
   "source": [
    "<b><u>Solution #1:</u></b> One way to achieve this is by using the StringIO() function. It will act as a wrapper and it will help use read the data using the pd.read_csv() function."
   ]
  },
  {
   "cell_type": "code",
   "execution_count": 45,
   "id": "4d941f0d",
   "metadata": {},
   "outputs": [
    {
     "name": "stdout",
     "output_type": "stream",
     "text": [
      "            Date    Event   Cost\n",
      "0      10/2/2011    Music  10000\n",
      "1      11/2/2011   Poetry  12000\n",
      "2      12/2/2011  Theatre   5000\n",
      "3      13/2/2011   Comedy   8000\n"
     ]
    }
   ],
   "source": [
    "# importing pandas as pd\n",
    "import pandas as pd\n",
    "  \n",
    "# import the StrinIO function\n",
    "# from io module\n",
    "from io import StringIO\n",
    "  \n",
    "# wrap the string data in StringIO function\n",
    "StringData = StringIO(\"\"\"Date;Event;Cost\n",
    "    10/2/2011;Music;10000\n",
    "    11/2/2011;Poetry;12000\n",
    "    12/2/2011;Theatre;5000\n",
    "    13/2/2011;Comedy;8000\n",
    "    \"\"\")\n",
    "  \n",
    "# let's read the data using the Pandas\n",
    "# read_csv() function\n",
    "df = pd.read_csv(StringData, sep =\";\")\n",
    "  \n",
    "# Print the dataframe\n",
    "print(df)"
   ]
  },
  {
   "cell_type": "markdown",
   "id": "3a0b5764",
   "metadata": {},
   "source": [
    "# Q10. Reindexing in Pandas DataFrame"
   ]
  },
  {
   "cell_type": "markdown",
   "id": "a579d879",
   "metadata": {},
   "source": [
    "<b><u>1. Reindexing the Rows</u></b>"
   ]
  },
  {
   "cell_type": "code",
   "execution_count": 50,
   "id": "3296bbbf",
   "metadata": {},
   "outputs": [
    {
     "name": "stdout",
     "output_type": "stream",
     "text": [
      "          a         b         c         d         e\n",
      "A  0.723723  0.940486  0.350142  0.485010  0.064862\n",
      "B  0.457575  0.451618  0.175255  0.852166  0.605766\n",
      "C  0.197992  0.068249  0.195656  0.158807  0.228715\n",
      "D  0.865133  0.518107  0.302699  0.268373  0.489687\n",
      "E  0.771472  0.794493  0.514997  0.549038  0.360349\n",
      "\n",
      "\n",
      "Dataframe after reindexing rows: \n",
      "           a         b         c         d         e\n",
      "B  0.457575  0.451618  0.175255  0.852166  0.605766\n",
      "D  0.865133  0.518107  0.302699  0.268373  0.489687\n",
      "A  0.723723  0.940486  0.350142  0.485010  0.064862\n",
      "C  0.197992  0.068249  0.195656  0.158807  0.228715\n",
      "E  0.771472  0.794493  0.514997  0.549038  0.360349\n"
     ]
    }
   ],
   "source": [
    "# Example_1\n",
    "# import numpy and pandas module\n",
    "import pandas as pd\n",
    "import numpy as np\n",
    " \n",
    "column=['a','b','c','d','e']\n",
    "index=['A','B','C','D','E']\n",
    " \n",
    "# create a dataframe of random values of array\n",
    "df1 = pd.DataFrame(np.random.rand(5,5),\n",
    "            columns=column, index=index)\n",
    " \n",
    "print(df1)\n",
    " \n",
    "print('\\n\\nDataframe after reindexing rows: \\n',\n",
    "df1.reindex(['B', 'D', 'A', 'C', 'E']))\n"
   ]
  },
  {
   "cell_type": "code",
   "execution_count": 51,
   "id": "9be51b6b",
   "metadata": {},
   "outputs": [
    {
     "name": "stdout",
     "output_type": "stream",
     "text": [
      "          a         b         c         d         e\n",
      "U       NaN       NaN       NaN       NaN       NaN\n",
      "A  0.587834  0.826723  0.720571  0.949797  0.152350\n",
      "B  0.522813  0.771512  0.675770  0.317559  0.067367\n",
      "C  0.587671  0.790022  0.597978  0.901139  0.544736\n",
      "Z       NaN       NaN       NaN       NaN       NaN\n"
     ]
    }
   ],
   "source": [
    "# Example_2\n",
    "# import numpy and pandas module\n",
    "import pandas as pd\n",
    "import numpy as np\n",
    " \n",
    "column = ['a', 'b', 'c', 'd', 'e']\n",
    "index = ['A', 'B', 'C', 'D', 'E']\n",
    "  \n",
    "# create a dataframe of random values of array\n",
    "df1 = pd.DataFrame(np.random.rand(5, 5),\n",
    "        columns = column, index = index)\n",
    " \n",
    "# create the new index for rows\n",
    "new_index =['U', 'A', 'B', 'C', 'Z']\n",
    " \n",
    "print(df1.reindex(new_index))"
   ]
  },
  {
   "cell_type": "markdown",
   "id": "528f3f8d",
   "metadata": {},
   "source": [
    "<b><u>2. Reindexing the columns using axis keyword</u></b>"
   ]
  },
  {
   "cell_type": "code",
   "execution_count": 52,
   "id": "685050ce",
   "metadata": {},
   "outputs": [
    {
     "name": "stdout",
     "output_type": "stream",
     "text": [
      "          e         a         b         c         d\n",
      "A  0.022294  0.242361  0.809282  0.533365  0.132788\n",
      "B  0.968887  0.721774  0.343451  0.819911  0.982922\n",
      "C  0.253822  0.954325  0.621577  0.041742  0.344535\n",
      "D  0.842866  0.007699  0.536678  0.218962  0.820444\n",
      "E  0.089379  0.669590  0.711810  0.491941  0.086996\n"
     ]
    }
   ],
   "source": [
    "# Example_1\n",
    "# import numpy and pandas module\n",
    "import pandas as pd\n",
    "import numpy as np\n",
    " \n",
    "column=['a','b','c','d','e']\n",
    "index=['A','B','C','D','E']\n",
    " \n",
    "#create a dataframe of random values of array\n",
    "df1 = pd.DataFrame(np.random.rand(5,5),\n",
    "           columns=column, index=index)\n",
    " \n",
    "column=['e','a','b','c','d']\n",
    "  \n",
    "# create the new index for columns\n",
    "print(df1.reindex(column, axis='columns'))"
   ]
  },
  {
   "cell_type": "code",
   "execution_count": 53,
   "id": "ac43bc28",
   "metadata": {},
   "outputs": [
    {
     "name": "stdout",
     "output_type": "stream",
     "text": [
      "          a         b         c   g   h\n",
      "A  0.001874  0.885425  0.370760 NaN NaN\n",
      "B  0.622897  0.116975  0.932086 NaN NaN\n",
      "C  0.372160  0.294784  0.195328 NaN NaN\n",
      "D  0.539279  0.422248  0.671529 NaN NaN\n",
      "E  0.432512  0.029294  0.288954 NaN NaN\n"
     ]
    }
   ],
   "source": [
    "# Example_2\n",
    "# import numpy and pandas module\n",
    "import pandas as pd\n",
    "import numpy as np\n",
    " \n",
    "column =['a', 'b', 'c', 'd', 'e']\n",
    "index =['A', 'B', 'C', 'D', 'E']\n",
    "  \n",
    "# create a dataframe of random values of array\n",
    "df1 = pd.DataFrame(np.random.rand(5, 5),\n",
    "        columns = column, index = index)\n",
    " \n",
    "column =['a', 'b', 'c', 'g', 'h']\n",
    " \n",
    "# create the new index for columns\n",
    "print(df1.reindex(column, axis ='columns'))"
   ]
  },
  {
   "cell_type": "markdown",
   "id": "d3508c66",
   "metadata": {},
   "source": [
    "<b><u>3. Replacing the missing values</u></b>"
   ]
  },
  {
   "cell_type": "code",
   "execution_count": 54,
   "id": "ce0763c5",
   "metadata": {},
   "outputs": [
    {
     "name": "stdout",
     "output_type": "stream",
     "text": [
      "          a         b         c    g    h\n",
      "A  0.982947  0.307128  0.948868  1.5  1.5\n",
      "B  0.725982  0.998537  0.558238  1.5  1.5\n",
      "C  0.351776  0.950213  0.557521  1.5  1.5\n",
      "D  0.209021  0.485437  0.359962  1.5  1.5\n",
      "E  0.801824  0.411216  0.328434  1.5  1.5\n"
     ]
    }
   ],
   "source": [
    "# Example_1\n",
    "# import numpy and pandas module\n",
    "import pandas as pd\n",
    "import numpy as np\n",
    " \n",
    "column =['a', 'b', 'c', 'd', 'e']\n",
    "index =['A', 'B', 'C', 'D', 'E']\n",
    "  \n",
    "# create a dataframe of random values of array\n",
    "df1 = pd.DataFrame(np.random.rand(5, 5),\n",
    "        columns = column, index = index)\n",
    " \n",
    "column =['a', 'b', 'c', 'g', 'h']\n",
    " \n",
    "# create the new index for columns\n",
    "print(df1.reindex(column, axis ='columns', fill_value = 1.5))"
   ]
  },
  {
   "cell_type": "code",
   "execution_count": 55,
   "id": "5f1dbe1e",
   "metadata": {},
   "outputs": [
    {
     "name": "stdout",
     "output_type": "stream",
     "text": [
      "          a         b         c             g             h\n",
      "A  0.601784  0.224785  0.740792  data missing  data missing\n",
      "B  0.510012  0.580654  0.534879  data missing  data missing\n",
      "C  0.439970  0.768225  0.234199  data missing  data missing\n",
      "D  0.727777  0.407433  0.370152  data missing  data missing\n",
      "E  0.526886  0.167292  0.275959  data missing  data missing\n"
     ]
    }
   ],
   "source": [
    "# Example_2\n",
    "# import numpy and pandas module\n",
    "import pandas as pd\n",
    "import numpy as np\n",
    " \n",
    "column =['a', 'b', 'c', 'd', 'e']\n",
    "index =['A', 'B', 'C', 'D', 'E']\n",
    "  \n",
    "# create a dataframe of random values of array\n",
    "df1 = pd.DataFrame(np.random.rand(5, 5),\n",
    "       columns = column, index = index)\n",
    " \n",
    "column =['a', 'b', 'c', 'g', 'h']\n",
    " \n",
    "# create the new index for columns\n",
    "print(df1.reindex(column, axis ='columns', fill_value ='data missing'))"
   ]
  },
  {
   "cell_type": "markdown",
   "id": "b07e3b67",
   "metadata": {},
   "source": [
    "## Q11. Reshape a pandas DataFrame using stack,unstack and melt method"
   ]
  },
  {
   "cell_type": "code",
   "execution_count": 56,
   "id": "598406c0",
   "metadata": {},
   "outputs": [
    {
     "name": "stdout",
     "output_type": "stream",
     "text": [
      "            Name            Team  Number Position   Age Height  Weight  \\\n",
      "0  Avery Bradley  Boston Celtics     0.0       PG  25.0    6-2   180.0   \n",
      "1    Jae Crowder  Boston Celtics    99.0       SF  25.0    6-6   235.0   \n",
      "2   John Holland  Boston Celtics    30.0       SG  27.0    6-5   205.0   \n",
      "3    R.J. Hunter  Boston Celtics    28.0       SG  22.0    6-5   185.0   \n",
      "4  Jonas Jerebko  Boston Celtics     8.0       PF  29.0   6-10   231.0   \n",
      "\n",
      "             College     Salary  \n",
      "0              Texas  7730337.0  \n",
      "1          Marquette  6796117.0  \n",
      "2  Boston University        NaN  \n",
      "3      Georgia State  1148640.0  \n",
      "4                NaN  5000000.0  \n"
     ]
    }
   ],
   "source": [
    "import pandas as pd\n",
    "  \n",
    "# making dataframe\n",
    "df = pd.read_csv(\"nba.csv\")\n",
    "# it was print the first 5-rows\n",
    "print(df.head()) "
   ]
  },
  {
   "cell_type": "markdown",
   "id": "79d07536",
   "metadata": {},
   "source": [
    "<b><u>1. Using stack() method:</u></b><br>\n",
    "Stack method works with the MultiIndex objects in DataFrame, it returning a DataFrame with an index with a new inner-most level of row labels. It changes the wide table to a long table."
   ]
  },
  {
   "cell_type": "code",
   "execution_count": 57,
   "id": "44623d2e",
   "metadata": {},
   "outputs": [
    {
     "name": "stdout",
     "output_type": "stream",
     "text": [
      "0  Name            Avery Bradley\n",
      "   Team           Boston Celtics\n",
      "   Number                    0.0\n",
      "   Position                   PG\n",
      "   Age                      25.0\n",
      "   Height                    6-2\n",
      "   Weight                  180.0\n",
      "   College                 Texas\n",
      "   Salary              7730337.0\n",
      "1  Name              Jae Crowder\n",
      "   Team           Boston Celtics\n",
      "   Number                   99.0\n",
      "   Position                   SF\n",
      "   Age                      25.0\n",
      "   Height                    6-6\n",
      "   Weight                  235.0\n",
      "   College             Marquette\n",
      "   Salary              6796117.0\n",
      "2  Name             John Holland\n",
      "   Team           Boston Celtics\n",
      "   Number                   30.0\n",
      "   Position                   SG\n",
      "   Age                      27.0\n",
      "   Height                    6-5\n",
      "   Weight                  205.0\n",
      "   College     Boston University\n",
      "dtype: object\n"
     ]
    }
   ],
   "source": [
    "# import pandas module\n",
    "import pandas as pd\n",
    "  \n",
    "# making dataframe\n",
    "df = pd.read_csv(\"nba.csv\")\n",
    "  \n",
    "# reshape the dataframe using stack() method\n",
    "df_stacked = df.stack()\n",
    "  \n",
    "print(df_stacked.head(26))"
   ]
  },
  {
   "cell_type": "markdown",
   "id": "2e11e8c6",
   "metadata": {},
   "source": [
    "<b><u>2. Using unstack() method:</u></b><br>\n",
    "unstack is similar to stack method, It also works with multi-index objects in dataframe, producing a reshaped DataFrame with a new inner-most level of column labels."
   ]
  },
  {
   "cell_type": "code",
   "execution_count": 58,
   "id": "ed7c08ac",
   "metadata": {},
   "outputs": [
    {
     "name": "stdout",
     "output_type": "stream",
     "text": [
      "            Name            Team Number Position   Age Height Weight  \\\n",
      "0  Avery Bradley  Boston Celtics    0.0       PG  25.0    6-2  180.0   \n",
      "1    Jae Crowder  Boston Celtics   99.0       SF  25.0    6-6  235.0   \n",
      "2   John Holland  Boston Celtics   30.0       SG  27.0    6-5  205.0   \n",
      "3    R.J. Hunter  Boston Celtics   28.0       SG  22.0    6-5  185.0   \n",
      "4  Jonas Jerebko  Boston Celtics    8.0       PF  29.0   6-10  231.0   \n",
      "5   Amir Johnson  Boston Celtics   90.0       PF  29.0    6-9  240.0   \n",
      "6  Jordan Mickey  Boston Celtics   55.0       PF  21.0    6-8  235.0   \n",
      "7   Kelly Olynyk  Boston Celtics   41.0        C  25.0    7-0  238.0   \n",
      "8   Terry Rozier  Boston Celtics   12.0       PG  22.0    6-2  190.0   \n",
      "9   Marcus Smart  Boston Celtics   36.0       PG  22.0    6-4  220.0   \n",
      "\n",
      "             College      Salary  \n",
      "0              Texas   7730337.0  \n",
      "1          Marquette   6796117.0  \n",
      "2  Boston University         NaN  \n",
      "3      Georgia State   1148640.0  \n",
      "4                NaN   5000000.0  \n",
      "5                NaN  12000000.0  \n",
      "6                LSU   1170960.0  \n",
      "7            Gonzaga   2165160.0  \n",
      "8         Louisville   1824360.0  \n",
      "9     Oklahoma State   3431040.0  \n"
     ]
    }
   ],
   "source": [
    "# import pandas module\n",
    "import pandas as pd\n",
    "  \n",
    "# making dataframe\n",
    "df = pd.read_csv(\"nba.csv\")\n",
    "  \n",
    "# unstack() method\n",
    "df_unstacked = df_stacked.unstack()\n",
    "print(df_unstacked.head(10))"
   ]
  },
  {
   "cell_type": "markdown",
   "id": "3a94c054",
   "metadata": {},
   "source": [
    "<b><u>3. Using melt() method:</u></b><br>\n",
    "Melt in pandas reshape dataframe from wide format to long format. It uses the “id_vars[‘col_names’]” for melt the dataframe by column names."
   ]
  },
  {
   "cell_type": "code",
   "execution_count": 59,
   "id": "65d96811",
   "metadata": {},
   "outputs": [
    {
     "name": "stdout",
     "output_type": "stream",
     "text": [
      "            Name            Team variable value\n",
      "0  Avery Bradley  Boston Celtics   Number   0.0\n",
      "1    Jae Crowder  Boston Celtics   Number  99.0\n",
      "2   John Holland  Boston Celtics   Number  30.0\n",
      "3    R.J. Hunter  Boston Celtics   Number  28.0\n",
      "4  Jonas Jerebko  Boston Celtics   Number   8.0\n",
      "5   Amir Johnson  Boston Celtics   Number  90.0\n",
      "6  Jordan Mickey  Boston Celtics   Number  55.0\n",
      "7   Kelly Olynyk  Boston Celtics   Number  41.0\n",
      "8   Terry Rozier  Boston Celtics   Number  12.0\n",
      "9   Marcus Smart  Boston Celtics   Number  36.0\n"
     ]
    }
   ],
   "source": [
    "# import pandas module\n",
    "import pandas as pd\n",
    "  \n",
    "# making dataframe\n",
    "df = pd.read_csv(\"nba.csv\")\n",
    "  \n",
    "# it takes two columns \"Name\" and \"Team\"\n",
    "df_melt = df.melt(id_vars =['Name', 'Team']) \n",
    "print(df_melt.head(10))"
   ]
  },
  {
   "cell_type": "markdown",
   "id": "e368d9e6",
   "metadata": {},
   "source": [
    "## Q12. How are iloc() and loc() different?\n",
    "\n",
    "<b><u>Answer</u></b><br>\n",
    "<ol><b><u>DataFrame.iloc</u></b> is a method used to retrieve data from a Data frame, and it is an integer position-based locator (from 0 to length-1 of the axis), but may also be used with a boolean array. It takes input as integer, arrays of integers, a slice object, boolean array and functions.\n"
   ]
  },
  {
   "cell_type": "code",
   "execution_count": 60,
   "id": "e02b557b",
   "metadata": {},
   "outputs": [
    {
     "data": {
      "text/html": [
       "<div>\n",
       "<style scoped>\n",
       "    .dataframe tbody tr th:only-of-type {\n",
       "        vertical-align: middle;\n",
       "    }\n",
       "\n",
       "    .dataframe tbody tr th {\n",
       "        vertical-align: top;\n",
       "    }\n",
       "\n",
       "    .dataframe thead th {\n",
       "        text-align: right;\n",
       "    }\n",
       "</style>\n",
       "<table border=\"1\" class=\"dataframe\">\n",
       "  <thead>\n",
       "    <tr style=\"text-align: right;\">\n",
       "      <th></th>\n",
       "      <th>Name</th>\n",
       "      <th>Team</th>\n",
       "      <th>Number</th>\n",
       "    </tr>\n",
       "  </thead>\n",
       "  <tbody>\n",
       "    <tr>\n",
       "      <th>0</th>\n",
       "      <td>Avery Bradley</td>\n",
       "      <td>Boston Celtics</td>\n",
       "      <td>0.0</td>\n",
       "    </tr>\n",
       "    <tr>\n",
       "      <th>1</th>\n",
       "      <td>Jae Crowder</td>\n",
       "      <td>Boston Celtics</td>\n",
       "      <td>99.0</td>\n",
       "    </tr>\n",
       "    <tr>\n",
       "      <th>2</th>\n",
       "      <td>John Holland</td>\n",
       "      <td>Boston Celtics</td>\n",
       "      <td>30.0</td>\n",
       "    </tr>\n",
       "  </tbody>\n",
       "</table>\n",
       "</div>"
      ],
      "text/plain": [
       "            Name            Team  Number\n",
       "0  Avery Bradley  Boston Celtics     0.0\n",
       "1    Jae Crowder  Boston Celtics    99.0\n",
       "2   John Holland  Boston Celtics    30.0"
      ]
     },
     "execution_count": 60,
     "metadata": {},
     "output_type": "execute_result"
    }
   ],
   "source": [
    "df.iloc[0]\n",
    "df.iloc[-5:]\n",
    "df.iloc[:, 2]    # the : in the first position indicates all rows\n",
    "df.iloc[:3, :3] # The upper-left 3 X 3 entries (assuming df has 3+ rows and columns)"
   ]
  },
  {
   "cell_type": "markdown",
   "id": "161b655c",
   "metadata": {},
   "source": [
    "<ol><b><u>DataFrame.loc</u></b> gets rows (and/or columns) with particular labels. It takes input as a single label, list of arrays and slice objects with labels."
   ]
  },
  {
   "cell_type": "code",
   "execution_count": 61,
   "id": "6351eccb",
   "metadata": {},
   "outputs": [
    {
     "data": {
      "text/plain": [
       "b    NaN\n",
       "c    NaN\n",
       "Name: date, dtype: object"
      ]
     },
     "execution_count": 61,
     "metadata": {},
     "output_type": "execute_result"
    }
   ],
   "source": [
    "df = pd.DataFrame(index=['a', 'b', 'c'], columns=['time', 'date', 'name'])\n",
    "df.loc['a']     # equivalent to df.iloc[0]\n",
    "df.loc['b':, 'date']   # equivalent to df.iloc[1:, 1]"
   ]
  },
  {
   "cell_type": "markdown",
   "id": "211a939c",
   "metadata": {},
   "source": [
    "## Q13. How can you sort the DataFrame?"
   ]
  },
  {
   "cell_type": "markdown",
   "id": "d2bba230",
   "metadata": {},
   "source": [
    "The function used for sorting in pandas is called <b><u>DataFrame.sort_values()</u></b>. It is used to sort a DataFrame by its column or row values. The function comes with a lot of parameters, but the most important ones to consider for sort are:\n",
    "\n",
    "<ol><b><u>by:</u></b> The optional by parameter is used to specify the column/row(s) which are used to determine the sorted order.<br>\n",
    "<b><u>axis:</u></b> specifies whether sort for row (0) or columns (1),<br>\n",
    "<b><u>ascending:</u></b> specifies whether to sort the dataframe in ascending or descending order. The default value is ascending. To sort in descending order, we need to specify ascending=False."
   ]
  },
  {
   "cell_type": "code",
   "execution_count": 63,
   "id": "2d46055b",
   "metadata": {},
   "outputs": [
    {
     "data": {
      "text/html": [
       "<div>\n",
       "<style scoped>\n",
       "    .dataframe tbody tr th:only-of-type {\n",
       "        vertical-align: middle;\n",
       "    }\n",
       "\n",
       "    .dataframe tbody tr th {\n",
       "        vertical-align: top;\n",
       "    }\n",
       "\n",
       "    .dataframe thead th {\n",
       "        text-align: right;\n",
       "    }\n",
       "</style>\n",
       "<table border=\"1\" class=\"dataframe\">\n",
       "  <thead>\n",
       "    <tr style=\"text-align: right;\">\n",
       "      <th></th>\n",
       "      <th>col1</th>\n",
       "      <th>col2</th>\n",
       "      <th>col3</th>\n",
       "      <th>col4</th>\n",
       "    </tr>\n",
       "  </thead>\n",
       "  <tbody>\n",
       "    <tr>\n",
       "      <th>0</th>\n",
       "      <td>A</td>\n",
       "      <td>2</td>\n",
       "      <td>0</td>\n",
       "      <td>a</td>\n",
       "    </tr>\n",
       "    <tr>\n",
       "      <th>1</th>\n",
       "      <td>A</td>\n",
       "      <td>1</td>\n",
       "      <td>1</td>\n",
       "      <td>B</td>\n",
       "    </tr>\n",
       "    <tr>\n",
       "      <th>2</th>\n",
       "      <td>B</td>\n",
       "      <td>9</td>\n",
       "      <td>9</td>\n",
       "      <td>c</td>\n",
       "    </tr>\n",
       "    <tr>\n",
       "      <th>3</th>\n",
       "      <td>NaN</td>\n",
       "      <td>8</td>\n",
       "      <td>4</td>\n",
       "      <td>D</td>\n",
       "    </tr>\n",
       "    <tr>\n",
       "      <th>4</th>\n",
       "      <td>D</td>\n",
       "      <td>7</td>\n",
       "      <td>2</td>\n",
       "      <td>e</td>\n",
       "    </tr>\n",
       "    <tr>\n",
       "      <th>5</th>\n",
       "      <td>C</td>\n",
       "      <td>4</td>\n",
       "      <td>3</td>\n",
       "      <td>F</td>\n",
       "    </tr>\n",
       "  </tbody>\n",
       "</table>\n",
       "</div>"
      ],
      "text/plain": [
       "  col1  col2  col3 col4\n",
       "0    A     2     0    a\n",
       "1    A     1     1    B\n",
       "2    B     9     9    c\n",
       "3  NaN     8     4    D\n",
       "4    D     7     2    e\n",
       "5    C     4     3    F"
      ]
     },
     "execution_count": 63,
     "metadata": {},
     "output_type": "execute_result"
    }
   ],
   "source": [
    "df = pd.DataFrame({\n",
    "    'col1': ['A', 'A', 'B', np.nan, 'D', 'C'],\n",
    "    'col2': [2, 1, 9, 8, 7, 4],\n",
    "    'col3': [0, 1, 9, 4, 2, 3],\n",
    "    'col4': ['a', 'B', 'c', 'D', 'e', 'F']\n",
    "})\n",
    "df"
   ]
  },
  {
   "cell_type": "code",
   "execution_count": 64,
   "id": "e3d6e1d9",
   "metadata": {},
   "outputs": [
    {
     "data": {
      "text/html": [
       "<div>\n",
       "<style scoped>\n",
       "    .dataframe tbody tr th:only-of-type {\n",
       "        vertical-align: middle;\n",
       "    }\n",
       "\n",
       "    .dataframe tbody tr th {\n",
       "        vertical-align: top;\n",
       "    }\n",
       "\n",
       "    .dataframe thead th {\n",
       "        text-align: right;\n",
       "    }\n",
       "</style>\n",
       "<table border=\"1\" class=\"dataframe\">\n",
       "  <thead>\n",
       "    <tr style=\"text-align: right;\">\n",
       "      <th></th>\n",
       "      <th>col1</th>\n",
       "      <th>col2</th>\n",
       "      <th>col3</th>\n",
       "      <th>col4</th>\n",
       "    </tr>\n",
       "  </thead>\n",
       "  <tbody>\n",
       "    <tr>\n",
       "      <th>0</th>\n",
       "      <td>A</td>\n",
       "      <td>2</td>\n",
       "      <td>0</td>\n",
       "      <td>a</td>\n",
       "    </tr>\n",
       "    <tr>\n",
       "      <th>1</th>\n",
       "      <td>A</td>\n",
       "      <td>1</td>\n",
       "      <td>1</td>\n",
       "      <td>B</td>\n",
       "    </tr>\n",
       "    <tr>\n",
       "      <th>2</th>\n",
       "      <td>B</td>\n",
       "      <td>9</td>\n",
       "      <td>9</td>\n",
       "      <td>c</td>\n",
       "    </tr>\n",
       "    <tr>\n",
       "      <th>5</th>\n",
       "      <td>C</td>\n",
       "      <td>4</td>\n",
       "      <td>3</td>\n",
       "      <td>F</td>\n",
       "    </tr>\n",
       "    <tr>\n",
       "      <th>4</th>\n",
       "      <td>D</td>\n",
       "      <td>7</td>\n",
       "      <td>2</td>\n",
       "      <td>e</td>\n",
       "    </tr>\n",
       "    <tr>\n",
       "      <th>3</th>\n",
       "      <td>NaN</td>\n",
       "      <td>8</td>\n",
       "      <td>4</td>\n",
       "      <td>D</td>\n",
       "    </tr>\n",
       "  </tbody>\n",
       "</table>\n",
       "</div>"
      ],
      "text/plain": [
       "  col1  col2  col3 col4\n",
       "0    A     2     0    a\n",
       "1    A     1     1    B\n",
       "2    B     9     9    c\n",
       "5    C     4     3    F\n",
       "4    D     7     2    e\n",
       "3  NaN     8     4    D"
      ]
     },
     "execution_count": 64,
     "metadata": {},
     "output_type": "execute_result"
    }
   ],
   "source": [
    "#Sort by col1\n",
    "df.sort_values(by=['col1'])"
   ]
  },
  {
   "cell_type": "code",
   "execution_count": 65,
   "id": "35bf24a8",
   "metadata": {},
   "outputs": [
    {
     "data": {
      "text/html": [
       "<div>\n",
       "<style scoped>\n",
       "    .dataframe tbody tr th:only-of-type {\n",
       "        vertical-align: middle;\n",
       "    }\n",
       "\n",
       "    .dataframe tbody tr th {\n",
       "        vertical-align: top;\n",
       "    }\n",
       "\n",
       "    .dataframe thead th {\n",
       "        text-align: right;\n",
       "    }\n",
       "</style>\n",
       "<table border=\"1\" class=\"dataframe\">\n",
       "  <thead>\n",
       "    <tr style=\"text-align: right;\">\n",
       "      <th></th>\n",
       "      <th>col1</th>\n",
       "      <th>col2</th>\n",
       "      <th>col3</th>\n",
       "      <th>col4</th>\n",
       "    </tr>\n",
       "  </thead>\n",
       "  <tbody>\n",
       "    <tr>\n",
       "      <th>1</th>\n",
       "      <td>A</td>\n",
       "      <td>1</td>\n",
       "      <td>1</td>\n",
       "      <td>B</td>\n",
       "    </tr>\n",
       "    <tr>\n",
       "      <th>0</th>\n",
       "      <td>A</td>\n",
       "      <td>2</td>\n",
       "      <td>0</td>\n",
       "      <td>a</td>\n",
       "    </tr>\n",
       "    <tr>\n",
       "      <th>2</th>\n",
       "      <td>B</td>\n",
       "      <td>9</td>\n",
       "      <td>9</td>\n",
       "      <td>c</td>\n",
       "    </tr>\n",
       "    <tr>\n",
       "      <th>5</th>\n",
       "      <td>C</td>\n",
       "      <td>4</td>\n",
       "      <td>3</td>\n",
       "      <td>F</td>\n",
       "    </tr>\n",
       "    <tr>\n",
       "      <th>4</th>\n",
       "      <td>D</td>\n",
       "      <td>7</td>\n",
       "      <td>2</td>\n",
       "      <td>e</td>\n",
       "    </tr>\n",
       "    <tr>\n",
       "      <th>3</th>\n",
       "      <td>NaN</td>\n",
       "      <td>8</td>\n",
       "      <td>4</td>\n",
       "      <td>D</td>\n",
       "    </tr>\n",
       "  </tbody>\n",
       "</table>\n",
       "</div>"
      ],
      "text/plain": [
       "  col1  col2  col3 col4\n",
       "1    A     1     1    B\n",
       "0    A     2     0    a\n",
       "2    B     9     9    c\n",
       "5    C     4     3    F\n",
       "4    D     7     2    e\n",
       "3  NaN     8     4    D"
      ]
     },
     "execution_count": 65,
     "metadata": {},
     "output_type": "execute_result"
    }
   ],
   "source": [
    "# Sort by multiple columns\n",
    "df.sort_values(by=['col1', 'col2'])"
   ]
  },
  {
   "cell_type": "code",
   "execution_count": 66,
   "id": "bf4e14f1",
   "metadata": {},
   "outputs": [
    {
     "data": {
      "text/html": [
       "<div>\n",
       "<style scoped>\n",
       "    .dataframe tbody tr th:only-of-type {\n",
       "        vertical-align: middle;\n",
       "    }\n",
       "\n",
       "    .dataframe tbody tr th {\n",
       "        vertical-align: top;\n",
       "    }\n",
       "\n",
       "    .dataframe thead th {\n",
       "        text-align: right;\n",
       "    }\n",
       "</style>\n",
       "<table border=\"1\" class=\"dataframe\">\n",
       "  <thead>\n",
       "    <tr style=\"text-align: right;\">\n",
       "      <th></th>\n",
       "      <th>col1</th>\n",
       "      <th>col2</th>\n",
       "      <th>col3</th>\n",
       "      <th>col4</th>\n",
       "    </tr>\n",
       "  </thead>\n",
       "  <tbody>\n",
       "    <tr>\n",
       "      <th>4</th>\n",
       "      <td>D</td>\n",
       "      <td>7</td>\n",
       "      <td>2</td>\n",
       "      <td>e</td>\n",
       "    </tr>\n",
       "    <tr>\n",
       "      <th>5</th>\n",
       "      <td>C</td>\n",
       "      <td>4</td>\n",
       "      <td>3</td>\n",
       "      <td>F</td>\n",
       "    </tr>\n",
       "    <tr>\n",
       "      <th>2</th>\n",
       "      <td>B</td>\n",
       "      <td>9</td>\n",
       "      <td>9</td>\n",
       "      <td>c</td>\n",
       "    </tr>\n",
       "    <tr>\n",
       "      <th>0</th>\n",
       "      <td>A</td>\n",
       "      <td>2</td>\n",
       "      <td>0</td>\n",
       "      <td>a</td>\n",
       "    </tr>\n",
       "    <tr>\n",
       "      <th>1</th>\n",
       "      <td>A</td>\n",
       "      <td>1</td>\n",
       "      <td>1</td>\n",
       "      <td>B</td>\n",
       "    </tr>\n",
       "    <tr>\n",
       "      <th>3</th>\n",
       "      <td>NaN</td>\n",
       "      <td>8</td>\n",
       "      <td>4</td>\n",
       "      <td>D</td>\n",
       "    </tr>\n",
       "  </tbody>\n",
       "</table>\n",
       "</div>"
      ],
      "text/plain": [
       "  col1  col2  col3 col4\n",
       "4    D     7     2    e\n",
       "5    C     4     3    F\n",
       "2    B     9     9    c\n",
       "0    A     2     0    a\n",
       "1    A     1     1    B\n",
       "3  NaN     8     4    D"
      ]
     },
     "execution_count": 66,
     "metadata": {},
     "output_type": "execute_result"
    }
   ],
   "source": [
    "# Sort descending\n",
    "df.sort_values(by='col1', ascending=False)"
   ]
  },
  {
   "cell_type": "code",
   "execution_count": null,
   "id": "cb126bb8",
   "metadata": {},
   "outputs": [],
   "source": []
  }
 ],
 "metadata": {
  "kernelspec": {
   "display_name": "Python 3",
   "language": "python",
   "name": "python3"
  },
  "language_info": {
   "codemirror_mode": {
    "name": "ipython",
    "version": 3
   },
   "file_extension": ".py",
   "mimetype": "text/x-python",
   "name": "python",
   "nbconvert_exporter": "python",
   "pygments_lexer": "ipython3",
   "version": "3.8.8"
  }
 },
 "nbformat": 4,
 "nbformat_minor": 5
}
